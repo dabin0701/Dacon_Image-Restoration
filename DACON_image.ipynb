{
 "cells": [
  {
   "cell_type": "code",
   "execution_count": 4,
   "metadata": {},
   "outputs": [
    {
     "name": "stderr",
     "output_type": "stream",
     "text": [
      "Epoch 1/100: 100%|██████████| 3701/3701 [29:13<00:00,  2.11batch/s, discriminator_loss=0.678, generator_loss=1.55]\n"
     ]
    },
    {
     "name": "stdout",
     "output_type": "stream",
     "text": [
      "Epoch [1/100] - Generator Loss: 1.5480, Discriminator Loss: 0.6776\n",
      "Epoch 1 results saved to /home/work/Dacon/dataset/result/epoch_1.zip\n"
     ]
    },
    {
     "name": "stderr",
     "output_type": "stream",
     "text": [
      "Epoch 2/100: 100%|██████████| 3701/3701 [32:16<00:00,  1.91batch/s, discriminator_loss=0.669, generator_loss=2.74]\n"
     ]
    },
    {
     "name": "stdout",
     "output_type": "stream",
     "text": [
      "Epoch [2/100] - Generator Loss: 1.3713, Discriminator Loss: 0.6690\n",
      "Epoch 2 results saved to /home/work/Dacon/dataset/result/epoch_2.zip\n"
     ]
    },
    {
     "name": "stderr",
     "output_type": "stream",
     "text": [
      "Epoch 3/100: 100%|██████████| 3701/3701 [33:57<00:00,  1.82batch/s, discriminator_loss=0.667, generator_loss=1.3] \n"
     ]
    },
    {
     "name": "stdout",
     "output_type": "stream",
     "text": [
      "Epoch [3/100] - Generator Loss: 1.3016, Discriminator Loss: 0.6673\n",
      "Epoch 3 results saved to /home/work/Dacon/dataset/result/epoch_3.zip\n"
     ]
    },
    {
     "name": "stderr",
     "output_type": "stream",
     "text": [
      "Epoch 4/100: 100%|██████████| 3701/3701 [33:39<00:00,  1.83batch/s, discriminator_loss=0.668, generator_loss=2.49]\n"
     ]
    },
    {
     "name": "stdout",
     "output_type": "stream",
     "text": [
      "Epoch [4/100] - Generator Loss: 1.2437, Discriminator Loss: 0.6683\n",
      "Epoch 4 results saved to /home/work/Dacon/dataset/result/epoch_4.zip\n"
     ]
    },
    {
     "name": "stderr",
     "output_type": "stream",
     "text": [
      "Epoch 5/100: 100%|██████████| 3701/3701 [36:54<00:00,  1.67batch/s, discriminator_loss=0.672, generator_loss=1.18]\n"
     ]
    },
    {
     "name": "stdout",
     "output_type": "stream",
     "text": [
      "Epoch [5/100] - Generator Loss: 1.1846, Discriminator Loss: 0.6723\n",
      "Epoch 5 results saved to /home/work/Dacon/dataset/result/epoch_5.zip\n"
     ]
    },
    {
     "name": "stderr",
     "output_type": "stream",
     "text": [
      "Epoch 6/100: 100%|██████████| 3701/3701 [36:45<00:00,  1.68batch/s, discriminator_loss=0.675, generator_loss=1.12]\n"
     ]
    },
    {
     "name": "stdout",
     "output_type": "stream",
     "text": [
      "Epoch [6/100] - Generator Loss: 1.1239, Discriminator Loss: 0.6748\n",
      "Epoch 6 results saved to /home/work/Dacon/dataset/result/epoch_6.zip\n"
     ]
    },
    {
     "name": "stderr",
     "output_type": "stream",
     "text": [
      "Epoch 7/100: 100%|██████████| 3701/3701 [36:27<00:00,  1.69batch/s, discriminator_loss=0.678, generator_loss=2.2] \n"
     ]
    },
    {
     "name": "stdout",
     "output_type": "stream",
     "text": [
      "Epoch [7/100] - Generator Loss: 1.1002, Discriminator Loss: 0.6776\n",
      "Epoch 7 results saved to /home/work/Dacon/dataset/result/epoch_7.zip\n"
     ]
    },
    {
     "name": "stderr",
     "output_type": "stream",
     "text": [
      "Epoch 8/100: 100%|██████████| 3701/3701 [36:34<00:00,  1.69batch/s, discriminator_loss=0.677, generator_loss=1.07]\n"
     ]
    },
    {
     "name": "stdout",
     "output_type": "stream",
     "text": [
      "Epoch [8/100] - Generator Loss: 1.0667, Discriminator Loss: 0.6775\n",
      "Epoch 8 results saved to /home/work/Dacon/dataset/result/epoch_8.zip\n"
     ]
    },
    {
     "name": "stderr",
     "output_type": "stream",
     "text": [
      "Epoch 9/100: 100%|██████████| 3701/3701 [30:17<00:00,  2.04batch/s, discriminator_loss=0.678, generator_loss=2.09]\n"
     ]
    },
    {
     "name": "stdout",
     "output_type": "stream",
     "text": [
      "Epoch [9/100] - Generator Loss: 1.0453, Discriminator Loss: 0.6780\n",
      "Epoch 9 results saved to /home/work/Dacon/dataset/result/epoch_9.zip\n"
     ]
    },
    {
     "name": "stderr",
     "output_type": "stream",
     "text": [
      "Epoch 10/100: 100%|██████████| 3701/3701 [31:33<00:00,  1.95batch/s, discriminator_loss=0.679, generator_loss=1.03]\n"
     ]
    },
    {
     "name": "stdout",
     "output_type": "stream",
     "text": [
      "Epoch [10/100] - Generator Loss: 1.0314, Discriminator Loss: 0.6785\n",
      "Epoch 10 results saved to /home/work/Dacon/dataset/result/epoch_10.zip\n"
     ]
    },
    {
     "name": "stderr",
     "output_type": "stream",
     "text": [
      "Epoch 11/100: 100%|██████████| 3701/3701 [31:38<00:00,  1.95batch/s, discriminator_loss=0.679, generator_loss=1.01]\n"
     ]
    },
    {
     "name": "stdout",
     "output_type": "stream",
     "text": [
      "Epoch [11/100] - Generator Loss: 1.0063, Discriminator Loss: 0.6791\n",
      "Epoch 11 results saved to /home/work/Dacon/dataset/result/epoch_11.zip\n"
     ]
    },
    {
     "name": "stderr",
     "output_type": "stream",
     "text": [
      "Epoch 12/100: 100%|██████████| 3701/3701 [30:39<00:00,  2.01batch/s, discriminator_loss=0.679, generator_loss=2]    \n"
     ]
    },
    {
     "name": "stdout",
     "output_type": "stream",
     "text": [
      "Epoch [12/100] - Generator Loss: 0.9987, Discriminator Loss: 0.6790\n",
      "Epoch 12 results saved to /home/work/Dacon/dataset/result/epoch_12.zip\n"
     ]
    },
    {
     "name": "stderr",
     "output_type": "stream",
     "text": [
      "Epoch 13/100: 100%|██████████| 3701/3701 [31:58<00:00,  1.93batch/s, discriminator_loss=0.679, generator_loss=0.982]\n"
     ]
    },
    {
     "name": "stdout",
     "output_type": "stream",
     "text": [
      "Epoch [13/100] - Generator Loss: 0.9818, Discriminator Loss: 0.6794\n",
      "Epoch 13 results saved to /home/work/Dacon/dataset/result/epoch_13.zip\n"
     ]
    },
    {
     "name": "stderr",
     "output_type": "stream",
     "text": [
      "Epoch 14/100: 100%|██████████| 3701/3701 [31:02<00:00,  1.99batch/s, discriminator_loss=0.679, generator_loss=0.981]\n"
     ]
    },
    {
     "name": "stdout",
     "output_type": "stream",
     "text": [
      "Epoch [14/100] - Generator Loss: 0.9814, Discriminator Loss: 0.6791\n",
      "Epoch 14 results saved to /home/work/Dacon/dataset/result/epoch_14.zip\n"
     ]
    },
    {
     "name": "stderr",
     "output_type": "stream",
     "text": [
      "Epoch 15/100: 100%|██████████| 3701/3701 [32:20<00:00,  1.91batch/s, discriminator_loss=0.679, generator_loss=0.974]\n"
     ]
    },
    {
     "name": "stdout",
     "output_type": "stream",
     "text": [
      "Epoch [15/100] - Generator Loss: 0.9737, Discriminator Loss: 0.6792\n",
      "Epoch 15 results saved to /home/work/Dacon/dataset/result/epoch_15.zip\n"
     ]
    },
    {
     "name": "stderr",
     "output_type": "stream",
     "text": [
      "Epoch 16/100: 100%|██████████| 3701/3701 [32:18<00:00,  1.91batch/s, discriminator_loss=0.679, generator_loss=0.964]\n"
     ]
    },
    {
     "name": "stdout",
     "output_type": "stream",
     "text": [
      "Epoch [16/100] - Generator Loss: 0.9644, Discriminator Loss: 0.6786\n",
      "Epoch 16 results saved to /home/work/Dacon/dataset/result/epoch_16.zip\n"
     ]
    },
    {
     "name": "stderr",
     "output_type": "stream",
     "text": [
      "Epoch 17/100: 100%|██████████| 3701/3701 [31:24<00:00,  1.96batch/s, discriminator_loss=0.678, generator_loss=0.962]\n"
     ]
    },
    {
     "name": "stdout",
     "output_type": "stream",
     "text": [
      "Epoch [17/100] - Generator Loss: 0.9620, Discriminator Loss: 0.6782\n",
      "Epoch 17 results saved to /home/work/Dacon/dataset/result/epoch_17.zip\n"
     ]
    },
    {
     "name": "stderr",
     "output_type": "stream",
     "text": [
      "Epoch 18/100: 100%|██████████| 3701/3701 [32:36<00:00,  1.89batch/s, discriminator_loss=0.677, generator_loss=0.963]\n"
     ]
    },
    {
     "name": "stdout",
     "output_type": "stream",
     "text": [
      "Epoch [18/100] - Generator Loss: 0.9629, Discriminator Loss: 0.6774\n",
      "Epoch 18 results saved to /home/work/Dacon/dataset/result/epoch_18.zip\n"
     ]
    },
    {
     "name": "stderr",
     "output_type": "stream",
     "text": [
      "Epoch 19/100: 100%|██████████| 3701/3701 [31:50<00:00,  1.94batch/s, discriminator_loss=0.676, generator_loss=0.967]\n"
     ]
    },
    {
     "name": "stdout",
     "output_type": "stream",
     "text": [
      "Epoch [19/100] - Generator Loss: 0.9669, Discriminator Loss: 0.6763\n",
      "Epoch 19 results saved to /home/work/Dacon/dataset/result/epoch_19.zip\n"
     ]
    },
    {
     "name": "stderr",
     "output_type": "stream",
     "text": [
      "Epoch 20/100: 100%|██████████| 3701/3701 [32:59<00:00,  1.87batch/s, discriminator_loss=0.676, generator_loss=0.965]\n"
     ]
    },
    {
     "name": "stdout",
     "output_type": "stream",
     "text": [
      "Epoch [20/100] - Generator Loss: 0.9653, Discriminator Loss: 0.6756\n",
      "Epoch 20 results saved to /home/work/Dacon/dataset/result/epoch_20.zip\n"
     ]
    },
    {
     "name": "stderr",
     "output_type": "stream",
     "text": [
      "Epoch 21/100: 100%|██████████| 3701/3701 [32:41<00:00,  1.89batch/s, discriminator_loss=0.675, generator_loss=0.962]\n"
     ]
    },
    {
     "name": "stdout",
     "output_type": "stream",
     "text": [
      "Epoch [21/100] - Generator Loss: 0.9621, Discriminator Loss: 0.6747\n",
      "Epoch 21 results saved to /home/work/Dacon/dataset/result/epoch_21.zip\n"
     ]
    },
    {
     "name": "stderr",
     "output_type": "stream",
     "text": [
      "Epoch 22/100: 100%|██████████| 3701/3701 [32:19<00:00,  1.91batch/s, discriminator_loss=0.674, generator_loss=0.962]\n"
     ]
    },
    {
     "name": "stdout",
     "output_type": "stream",
     "text": [
      "Epoch [22/100] - Generator Loss: 0.9621, Discriminator Loss: 0.6741\n",
      "Epoch 22 results saved to /home/work/Dacon/dataset/result/epoch_22.zip\n"
     ]
    },
    {
     "name": "stderr",
     "output_type": "stream",
     "text": [
      "Epoch 23/100: 100%|██████████| 3701/3701 [32:37<00:00,  1.89batch/s, discriminator_loss=0.673, generator_loss=0.965]\n"
     ]
    },
    {
     "name": "stdout",
     "output_type": "stream",
     "text": [
      "Epoch [23/100] - Generator Loss: 0.9654, Discriminator Loss: 0.6732\n",
      "Epoch 23 results saved to /home/work/Dacon/dataset/result/epoch_23.zip\n"
     ]
    },
    {
     "name": "stderr",
     "output_type": "stream",
     "text": [
      "Epoch 24/100: 100%|██████████| 3701/3701 [32:09<00:00,  1.92batch/s, discriminator_loss=0.671, generator_loss=0.968]\n"
     ]
    },
    {
     "name": "stdout",
     "output_type": "stream",
     "text": [
      "Epoch [24/100] - Generator Loss: 0.9682, Discriminator Loss: 0.6713\n",
      "Epoch 24 results saved to /home/work/Dacon/dataset/result/epoch_24.zip\n"
     ]
    },
    {
     "name": "stderr",
     "output_type": "stream",
     "text": [
      "Epoch 25/100: 100%|██████████| 3701/3701 [33:12<00:00,  1.86batch/s, discriminator_loss=0.67, generator_loss=0.968] \n"
     ]
    },
    {
     "name": "stdout",
     "output_type": "stream",
     "text": [
      "Epoch [25/100] - Generator Loss: 0.9685, Discriminator Loss: 0.6701\n",
      "Epoch 25 results saved to /home/work/Dacon/dataset/result/epoch_25.zip\n"
     ]
    },
    {
     "name": "stderr",
     "output_type": "stream",
     "text": [
      "Epoch 26/100: 100%|██████████| 3701/3701 [32:14<00:00,  1.91batch/s, discriminator_loss=0.668, generator_loss=0.973]\n"
     ]
    },
    {
     "name": "stdout",
     "output_type": "stream",
     "text": [
      "Epoch [26/100] - Generator Loss: 0.9725, Discriminator Loss: 0.6684\n",
      "Epoch 26 results saved to /home/work/Dacon/dataset/result/epoch_26.zip\n"
     ]
    },
    {
     "name": "stderr",
     "output_type": "stream",
     "text": [
      "Epoch 27/100: 100%|██████████| 3701/3701 [33:22<00:00,  1.85batch/s, discriminator_loss=0.667, generator_loss=0.977]\n"
     ]
    },
    {
     "name": "stdout",
     "output_type": "stream",
     "text": [
      "Epoch [27/100] - Generator Loss: 0.9770, Discriminator Loss: 0.6672\n",
      "Epoch 27 results saved to /home/work/Dacon/dataset/result/epoch_27.zip\n"
     ]
    },
    {
     "name": "stderr",
     "output_type": "stream",
     "text": [
      "Epoch 28/100: 100%|██████████| 3701/3701 [26:31<00:00,  2.33batch/s, discriminator_loss=0.666, generator_loss=0.976]\n"
     ]
    },
    {
     "name": "stdout",
     "output_type": "stream",
     "text": [
      "Epoch [28/100] - Generator Loss: 0.9759, Discriminator Loss: 0.6658\n",
      "Epoch 28 results saved to /home/work/Dacon/dataset/result/epoch_28.zip\n"
     ]
    },
    {
     "name": "stderr",
     "output_type": "stream",
     "text": [
      "Epoch 29/100: 100%|██████████| 3701/3701 [29:26<00:00,  2.10batch/s, discriminator_loss=0.664, generator_loss=0.98] \n"
     ]
    },
    {
     "name": "stdout",
     "output_type": "stream",
     "text": [
      "Epoch [29/100] - Generator Loss: 0.9801, Discriminator Loss: 0.6639\n",
      "Epoch 29 results saved to /home/work/Dacon/dataset/result/epoch_29.zip\n"
     ]
    },
    {
     "name": "stderr",
     "output_type": "stream",
     "text": [
      "Epoch 30/100: 100%|██████████| 3701/3701 [31:06<00:00,  1.98batch/s, discriminator_loss=0.662, generator_loss=0.987]\n"
     ]
    },
    {
     "name": "stdout",
     "output_type": "stream",
     "text": [
      "Epoch [30/100] - Generator Loss: 0.9865, Discriminator Loss: 0.6619\n",
      "Epoch 30 results saved to /home/work/Dacon/dataset/result/epoch_30.zip\n"
     ]
    },
    {
     "name": "stderr",
     "output_type": "stream",
     "text": [
      "Epoch 31/100: 100%|██████████| 3701/3701 [32:11<00:00,  1.92batch/s, discriminator_loss=0.66, generator_loss=0.993] \n"
     ]
    },
    {
     "name": "stdout",
     "output_type": "stream",
     "text": [
      "Epoch [31/100] - Generator Loss: 0.9933, Discriminator Loss: 0.6597\n",
      "Epoch 31 results saved to /home/work/Dacon/dataset/result/epoch_31.zip\n"
     ]
    },
    {
     "name": "stderr",
     "output_type": "stream",
     "text": [
      "Epoch 32/100: 100%|██████████| 3701/3701 [34:21<00:00,  1.80batch/s, discriminator_loss=0.658, generator_loss=0.998]\n"
     ]
    },
    {
     "name": "stdout",
     "output_type": "stream",
     "text": [
      "Epoch [32/100] - Generator Loss: 0.9981, Discriminator Loss: 0.6579\n",
      "Epoch 32 results saved to /home/work/Dacon/dataset/result/epoch_32.zip\n"
     ]
    },
    {
     "name": "stderr",
     "output_type": "stream",
     "text": [
      "Epoch 33/100: 100%|██████████| 3701/3701 [33:37<00:00,  1.83batch/s, discriminator_loss=0.656, generator_loss=1]    \n"
     ]
    },
    {
     "name": "stdout",
     "output_type": "stream",
     "text": [
      "Epoch [33/100] - Generator Loss: 1.0040, Discriminator Loss: 0.6560\n",
      "Epoch 33 results saved to /home/work/Dacon/dataset/result/epoch_33.zip\n"
     ]
    },
    {
     "name": "stderr",
     "output_type": "stream",
     "text": [
      "Epoch 34/100: 100%|██████████| 3701/3701 [33:56<00:00,  1.82batch/s, discriminator_loss=0.654, generator_loss=1.01] \n"
     ]
    },
    {
     "name": "stdout",
     "output_type": "stream",
     "text": [
      "Epoch [34/100] - Generator Loss: 1.0060, Discriminator Loss: 0.6543\n",
      "Epoch 34 results saved to /home/work/Dacon/dataset/result/epoch_34.zip\n"
     ]
    },
    {
     "name": "stderr",
     "output_type": "stream",
     "text": [
      "Epoch 35/100: 100%|██████████| 3701/3701 [34:13<00:00,  1.80batch/s, discriminator_loss=0.652, generator_loss=1.01]\n"
     ]
    },
    {
     "name": "stdout",
     "output_type": "stream",
     "text": [
      "Epoch [35/100] - Generator Loss: 1.0138, Discriminator Loss: 0.6521\n",
      "Epoch 35 results saved to /home/work/Dacon/dataset/result/epoch_35.zip\n"
     ]
    },
    {
     "name": "stderr",
     "output_type": "stream",
     "text": [
      "Epoch 36/100: 100%|██████████| 3701/3701 [33:13<00:00,  1.86batch/s, discriminator_loss=0.65, generator_loss=1.02] \n"
     ]
    },
    {
     "name": "stdout",
     "output_type": "stream",
     "text": [
      "Epoch [36/100] - Generator Loss: 1.0199, Discriminator Loss: 0.6500\n",
      "Epoch 36 results saved to /home/work/Dacon/dataset/result/epoch_36.zip\n"
     ]
    },
    {
     "name": "stderr",
     "output_type": "stream",
     "text": [
      "Epoch 37/100: 100%|██████████| 3701/3701 [34:13<00:00,  1.80batch/s, discriminator_loss=0.648, generator_loss=1.03]\n"
     ]
    },
    {
     "name": "stdout",
     "output_type": "stream",
     "text": [
      "Epoch [37/100] - Generator Loss: 1.0257, Discriminator Loss: 0.6478\n",
      "Epoch 37 results saved to /home/work/Dacon/dataset/result/epoch_37.zip\n"
     ]
    },
    {
     "name": "stderr",
     "output_type": "stream",
     "text": [
      "Epoch 38/100: 100%|██████████| 3701/3701 [32:01<00:00,  1.93batch/s, discriminator_loss=0.645, generator_loss=1.03]\n"
     ]
    },
    {
     "name": "stdout",
     "output_type": "stream",
     "text": [
      "Epoch [38/100] - Generator Loss: 1.0341, Discriminator Loss: 0.6452\n",
      "Epoch 38 results saved to /home/work/Dacon/dataset/result/epoch_38.zip\n"
     ]
    },
    {
     "name": "stderr",
     "output_type": "stream",
     "text": [
      "Epoch 39/100: 100%|██████████| 3701/3701 [31:08<00:00,  1.98batch/s, discriminator_loss=0.643, generator_loss=1.04]\n"
     ]
    },
    {
     "name": "stdout",
     "output_type": "stream",
     "text": [
      "Epoch [39/100] - Generator Loss: 1.0390, Discriminator Loss: 0.6430\n",
      "Epoch 39 results saved to /home/work/Dacon/dataset/result/epoch_39.zip\n"
     ]
    },
    {
     "name": "stderr",
     "output_type": "stream",
     "text": [
      "Epoch 40/100: 100%|██████████| 3701/3701 [31:00<00:00,  1.99batch/s, discriminator_loss=0.64, generator_loss=1.05] \n"
     ]
    },
    {
     "name": "stdout",
     "output_type": "stream",
     "text": [
      "Epoch [40/100] - Generator Loss: 1.0490, Discriminator Loss: 0.6401\n",
      "Epoch 40 results saved to /home/work/Dacon/dataset/result/epoch_40.zip\n"
     ]
    },
    {
     "name": "stderr",
     "output_type": "stream",
     "text": [
      "Epoch 41/100: 100%|██████████| 3701/3701 [24:03<00:00,  2.56batch/s, discriminator_loss=0.638, generator_loss=1.05]\n"
     ]
    },
    {
     "name": "stdout",
     "output_type": "stream",
     "text": [
      "Epoch [41/100] - Generator Loss: 1.0548, Discriminator Loss: 0.6381\n",
      "Epoch 41 results saved to /home/work/Dacon/dataset/result/epoch_41.zip\n"
     ]
    },
    {
     "name": "stderr",
     "output_type": "stream",
     "text": [
      "Epoch 42/100: 100%|██████████| 3701/3701 [23:13<00:00,  2.66batch/s, discriminator_loss=0.635, generator_loss=1.06]\n"
     ]
    },
    {
     "name": "stdout",
     "output_type": "stream",
     "text": [
      "Epoch [42/100] - Generator Loss: 1.0616, Discriminator Loss: 0.6350\n",
      "Epoch 42 results saved to /home/work/Dacon/dataset/result/epoch_42.zip\n"
     ]
    },
    {
     "name": "stderr",
     "output_type": "stream",
     "text": [
      "Epoch 43/100: 100%|██████████| 3701/3701 [22:33<00:00,  2.73batch/s, discriminator_loss=0.632, generator_loss=1.07]\n"
     ]
    },
    {
     "name": "stdout",
     "output_type": "stream",
     "text": [
      "Epoch [43/100] - Generator Loss: 1.0712, Discriminator Loss: 0.6325\n",
      "Epoch 43 results saved to /home/work/Dacon/dataset/result/epoch_43.zip\n"
     ]
    },
    {
     "name": "stderr",
     "output_type": "stream",
     "text": [
      "Epoch 44/100: 100%|██████████| 3701/3701 [23:15<00:00,  2.65batch/s, discriminator_loss=0.63, generator_loss=2.16] \n"
     ]
    },
    {
     "name": "stdout",
     "output_type": "stream",
     "text": [
      "Epoch [44/100] - Generator Loss: 1.0824, Discriminator Loss: 0.6296\n",
      "Epoch 44 results saved to /home/work/Dacon/dataset/result/epoch_44.zip\n"
     ]
    },
    {
     "name": "stderr",
     "output_type": "stream",
     "text": [
      "Epoch 45/100: 100%|██████████| 3701/3701 [29:16<00:00,  2.11batch/s, discriminator_loss=0.627, generator_loss=1.09]\n"
     ]
    },
    {
     "name": "stdout",
     "output_type": "stream",
     "text": [
      "Epoch [45/100] - Generator Loss: 1.0887, Discriminator Loss: 0.6274\n",
      "Epoch 45 results saved to /home/work/Dacon/dataset/result/epoch_45.zip\n"
     ]
    },
    {
     "name": "stderr",
     "output_type": "stream",
     "text": [
      "Epoch 46/100: 100%|██████████| 3701/3701 [31:07<00:00,  1.98batch/s, discriminator_loss=0.624, generator_loss=1.1]\n"
     ]
    },
    {
     "name": "stdout",
     "output_type": "stream",
     "text": [
      "Epoch [46/100] - Generator Loss: 1.1017, Discriminator Loss: 0.6241\n",
      "Epoch 46 results saved to /home/work/Dacon/dataset/result/epoch_46.zip\n"
     ]
    },
    {
     "name": "stderr",
     "output_type": "stream",
     "text": [
      "Epoch 47/100: 100%|██████████| 3701/3701 [29:38<00:00,  2.08batch/s, discriminator_loss=0.622, generator_loss=1.1] \n"
     ]
    },
    {
     "name": "stdout",
     "output_type": "stream",
     "text": [
      "Epoch [47/100] - Generator Loss: 1.1030, Discriminator Loss: 0.6224\n",
      "Epoch 47 results saved to /home/work/Dacon/dataset/result/epoch_47.zip\n"
     ]
    },
    {
     "name": "stderr",
     "output_type": "stream",
     "text": [
      "Epoch 48/100: 100%|██████████| 3701/3701 [31:08<00:00,  1.98batch/s, discriminator_loss=0.619, generator_loss=1.12]\n"
     ]
    },
    {
     "name": "stdout",
     "output_type": "stream",
     "text": [
      "Epoch [48/100] - Generator Loss: 1.1171, Discriminator Loss: 0.6185\n",
      "Epoch 48 results saved to /home/work/Dacon/dataset/result/epoch_48.zip\n"
     ]
    },
    {
     "name": "stderr",
     "output_type": "stream",
     "text": [
      "Epoch 49/100: 100%|██████████| 3701/3701 [29:58<00:00,  2.06batch/s, discriminator_loss=0.619, generator_loss=1.12]\n"
     ]
    },
    {
     "name": "stdout",
     "output_type": "stream",
     "text": [
      "Epoch [49/100] - Generator Loss: 1.1156, Discriminator Loss: 0.6191\n",
      "Epoch 49 results saved to /home/work/Dacon/dataset/result/epoch_49.zip\n"
     ]
    },
    {
     "name": "stderr",
     "output_type": "stream",
     "text": [
      "Epoch 50/100: 100%|██████████| 3701/3701 [30:48<00:00,  2.00batch/s, discriminator_loss=0.614, generator_loss=1.13]\n"
     ]
    },
    {
     "name": "stdout",
     "output_type": "stream",
     "text": [
      "Epoch [50/100] - Generator Loss: 1.1346, Discriminator Loss: 0.6140\n",
      "Epoch 50 results saved to /home/work/Dacon/dataset/result/epoch_50.zip\n"
     ]
    },
    {
     "name": "stderr",
     "output_type": "stream",
     "text": [
      "Epoch 51/100: 100%|██████████| 3701/3701 [30:20<00:00,  2.03batch/s, discriminator_loss=0.612, generator_loss=1.14]\n"
     ]
    },
    {
     "name": "stdout",
     "output_type": "stream",
     "text": [
      "Epoch [51/100] - Generator Loss: 1.1414, Discriminator Loss: 0.6124\n",
      "Epoch 51 results saved to /home/work/Dacon/dataset/result/epoch_51.zip\n"
     ]
    },
    {
     "name": "stderr",
     "output_type": "stream",
     "text": [
      "Epoch 52/100: 100%|██████████| 3701/3701 [30:30<00:00,  2.02batch/s, discriminator_loss=0.609, generator_loss=1.16]\n"
     ]
    },
    {
     "name": "stdout",
     "output_type": "stream",
     "text": [
      "Epoch [52/100] - Generator Loss: 1.1564, Discriminator Loss: 0.6087\n",
      "Epoch 52 results saved to /home/work/Dacon/dataset/result/epoch_52.zip\n"
     ]
    },
    {
     "name": "stderr",
     "output_type": "stream",
     "text": [
      "Epoch 53/100: 100%|██████████| 3701/3701 [30:36<00:00,  2.02batch/s, discriminator_loss=0.616, generator_loss=1.14]\n"
     ]
    },
    {
     "name": "stdout",
     "output_type": "stream",
     "text": [
      "Epoch [53/100] - Generator Loss: 1.1371, Discriminator Loss: 0.6163\n",
      "Epoch 53 results saved to /home/work/Dacon/dataset/result/epoch_53.zip\n"
     ]
    },
    {
     "name": "stderr",
     "output_type": "stream",
     "text": [
      "Epoch 54/100: 100%|██████████| 3701/3701 [30:11<00:00,  2.04batch/s, discriminator_loss=0.603, generator_loss=1.17]\n"
     ]
    },
    {
     "name": "stdout",
     "output_type": "stream",
     "text": [
      "Epoch [54/100] - Generator Loss: 1.1689, Discriminator Loss: 0.6032\n",
      "Epoch 54 results saved to /home/work/Dacon/dataset/result/epoch_54.zip\n"
     ]
    },
    {
     "name": "stderr",
     "output_type": "stream",
     "text": [
      "Epoch 55/100: 100%|██████████| 3701/3701 [30:54<00:00,  2.00batch/s, discriminator_loss=0.618, generator_loss=1.16]\n"
     ]
    },
    {
     "name": "stdout",
     "output_type": "stream",
     "text": [
      "Epoch [55/100] - Generator Loss: 1.1604, Discriminator Loss: 0.6185\n",
      "Epoch 55 results saved to /home/work/Dacon/dataset/result/epoch_55.zip\n"
     ]
    },
    {
     "name": "stderr",
     "output_type": "stream",
     "text": [
      "Epoch 56/100: 100%|██████████| 3701/3701 [29:57<00:00,  2.06batch/s, discriminator_loss=0.599, generator_loss=1.18]\n"
     ]
    },
    {
     "name": "stdout",
     "output_type": "stream",
     "text": [
      "Epoch [56/100] - Generator Loss: 1.1799, Discriminator Loss: 0.5991\n",
      "Epoch 56 results saved to /home/work/Dacon/dataset/result/epoch_56.zip\n"
     ]
    },
    {
     "name": "stderr",
     "output_type": "stream",
     "text": [
      "Epoch 57/100: 100%|██████████| 3701/3701 [31:11<00:00,  1.98batch/s, discriminator_loss=0.6, generator_loss=1.19]  \n"
     ]
    },
    {
     "name": "stdout",
     "output_type": "stream",
     "text": [
      "Epoch [57/100] - Generator Loss: 1.1888, Discriminator Loss: 0.6001\n",
      "Epoch 57 results saved to /home/work/Dacon/dataset/result/epoch_57.zip\n"
     ]
    },
    {
     "name": "stderr",
     "output_type": "stream",
     "text": [
      "Epoch 58/100: 100%|██████████| 3701/3701 [29:39<00:00,  2.08batch/s, discriminator_loss=0.636, generator_loss=1.16]\n"
     ]
    },
    {
     "name": "stdout",
     "output_type": "stream",
     "text": [
      "Epoch [58/100] - Generator Loss: 1.1597, Discriminator Loss: 0.6361\n",
      "Epoch 58 results saved to /home/work/Dacon/dataset/result/epoch_58.zip\n"
     ]
    },
    {
     "name": "stderr",
     "output_type": "stream",
     "text": [
      "Epoch 59/100: 100%|██████████| 3701/3701 [31:12<00:00,  1.98batch/s, discriminator_loss=0.594, generator_loss=1.2] \n"
     ]
    },
    {
     "name": "stdout",
     "output_type": "stream",
     "text": [
      "Epoch [59/100] - Generator Loss: 1.1990, Discriminator Loss: 0.5941\n",
      "Epoch 59 results saved to /home/work/Dacon/dataset/result/epoch_59.zip\n"
     ]
    },
    {
     "name": "stderr",
     "output_type": "stream",
     "text": [
      "Epoch 60/100: 100%|██████████| 3701/3701 [29:59<00:00,  2.06batch/s, discriminator_loss=0.595, generator_loss=1.21]\n"
     ]
    },
    {
     "name": "stdout",
     "output_type": "stream",
     "text": [
      "Epoch [60/100] - Generator Loss: 1.2071, Discriminator Loss: 0.5951\n",
      "Epoch 60 results saved to /home/work/Dacon/dataset/result/epoch_60.zip\n"
     ]
    },
    {
     "name": "stderr",
     "output_type": "stream",
     "text": [
      "Epoch 61/100: 100%|██████████| 3701/3701 [28:02<00:00,  2.20batch/s, discriminator_loss=0.593, generator_loss=1.21]\n"
     ]
    },
    {
     "name": "stdout",
     "output_type": "stream",
     "text": [
      "Epoch [61/100] - Generator Loss: 1.2148, Discriminator Loss: 0.5931\n",
      "Epoch 61 results saved to /home/work/Dacon/dataset/result/epoch_61.zip\n"
     ]
    },
    {
     "name": "stderr",
     "output_type": "stream",
     "text": [
      "Epoch 62/100:  28%|██▊       | 1036/3701 [06:26<09:49,  4.52batch/s, discriminator_loss=0.657, generator_loss=2.42]"
     ]
    }
   ],
   "source": [
    "\n",
    "import torch\n",
    "import torch.nn as nn\n",
    "import torch.optim as optim\n",
    "from torch.utils.data import DataLoader, Dataset\n",
    "import cv2\n",
    "import numpy as np\n",
    "import os\n",
    "import zipfile\n",
    "from skimage.metrics import structural_similarity as ssim\n",
    "from tqdm import tqdm\n",
    "\n",
    "os.environ['CUDA_VISIBLE_DEVICES'] = '0'\n",
    "device = torch.device(\"cuda\" if torch.cuda.is_available() else \"cpu\")\n",
    "\n",
    "# ResNet Block\n",
    "class ResNetBlock(nn.Module):\n",
    "    def __init__(self, in_channels, out_channels):\n",
    "        super(ResNetBlock, self).__init__()\n",
    "        self.conv1 = nn.Conv2d(in_channels, out_channels, kernel_size=3, padding=1)\n",
    "        self.bn1 = nn.BatchNorm2d(out_channels)\n",
    "        self.relu = nn.ReLU(inplace=True)\n",
    "        self.conv2 = nn.Conv2d(out_channels, out_channels, kernel_size=3, padding=1)\n",
    "        self.bn2 = nn.BatchNorm2d(out_channels)\n",
    "\n",
    "        # Skip connection for dimensionality adjustment\n",
    "        self.skip = nn.Conv2d(in_channels, out_channels, kernel_size=1, padding=0) if in_channels != out_channels else nn.Identity()\n",
    "\n",
    "    def forward(self, x):\n",
    "        residual = self.skip(x)\n",
    "        out = self.conv1(x)\n",
    "        out = self.bn1(out)\n",
    "        out = self.relu(out)\n",
    "        out = self.conv2(out)\n",
    "        out = self.bn2(out)\n",
    "        return self.relu(out + residual)\n",
    "\n",
    "# UNet with ResNet Blocks\n",
    "class UNet(nn.Module):\n",
    "    def __init__(self):\n",
    "        super(UNet, self).__init__()\n",
    "        self.enc1 = ResNetBlock(3, 64)\n",
    "        self.enc2 = ResNetBlock(64, 128)\n",
    "        self.enc3 = ResNetBlock(128, 256)\n",
    "        self.enc4 = ResNetBlock(256, 512)\n",
    "        self.enc5 = ResNetBlock(512, 1024)\n",
    "\n",
    "        self.up1 = nn.Upsample(scale_factor=2, mode='bilinear', align_corners=True)\n",
    "        self.dec1 = ResNetBlock(1024 + 512, 512)\n",
    "\n",
    "        self.up2 = nn.Upsample(scale_factor=2, mode='bilinear', align_corners=True)\n",
    "        self.dec2 = ResNetBlock(512 + 256, 256)\n",
    "\n",
    "        self.up3 = nn.Upsample(scale_factor=2, mode='bilinear', align_corners=True)\n",
    "        self.dec3 = ResNetBlock(256 + 128, 128)\n",
    "\n",
    "        self.up4 = nn.Upsample(scale_factor=2, mode='bilinear', align_corners=True)\n",
    "        self.dec4 = ResNetBlock(128 + 64, 64)\n",
    "\n",
    "        self.final = nn.Conv2d(64, 3, kernel_size=1)\n",
    "\n",
    "    def forward(self, x):\n",
    "        # Encoder\n",
    "        e1 = self.enc1(x)\n",
    "        e2 = self.enc2(nn.MaxPool2d(2)(e1))\n",
    "        e3 = self.enc3(nn.MaxPool2d(2)(e2))\n",
    "        e4 = self.enc4(nn.MaxPool2d(2)(e3))\n",
    "        e5 = self.enc5(nn.MaxPool2d(2)(e4))\n",
    "\n",
    "        # Decoder\n",
    "        d1 = self.dec1(torch.cat([self.up1(e5), e4], dim=1))\n",
    "        d2 = self.dec2(torch.cat([self.up2(d1), e3], dim=1))\n",
    "        d3 = self.dec3(torch.cat([self.up3(d2), e2], dim=1))\n",
    "        d4 = self.dec4(torch.cat([self.up4(d3), e1], dim=1))\n",
    "\n",
    "        return torch.sigmoid(self.final(d4))\n",
    "\n",
    "class PatchGANDiscriminator(nn.Module):\n",
    "    def __init__(self, in_channels=3):\n",
    "        super(PatchGANDiscriminator, self).__init__()\n",
    "        self.model = nn.Sequential(\n",
    "            nn.Conv2d(in_channels, 64, kernel_size=4, stride=2, padding=1),\n",
    "            nn.LeakyReLU(0.2, inplace=True),\n",
    "            nn.Conv2d(64, 128, kernel_size=4, stride=2, padding=1),\n",
    "            nn.BatchNorm2d(128),\n",
    "            nn.LeakyReLU(0.2, inplace=True),\n",
    "            nn.Conv2d(128, 256, kernel_size=4, stride=2, padding=1),\n",
    "            nn.BatchNorm2d(256),\n",
    "            nn.LeakyReLU(0.2, inplace=True),\n",
    "            nn.Conv2d(256, 512, kernel_size=4, stride=1, padding=1),\n",
    "            nn.BatchNorm2d(512),\n",
    "            nn.LeakyReLU(0.2, inplace=True),\n",
    "            nn.Conv2d(512, 1, kernel_size=4, stride=1, padding=1),\n",
    "            nn.Sigmoid()\n",
    "        )\n",
    "\n",
    "    def forward(self, x):\n",
    "        return self.model(x)\n",
    "\n",
    "class ImageDataset(Dataset):\n",
    "    def __init__(self, input_dir, gt_dir, transform=None):\n",
    "        self.input_dir = input_dir\n",
    "        self.gt_dir = gt_dir\n",
    "        self.input_images = sorted(os.listdir(input_dir))\n",
    "        self.gt_images = sorted(os.listdir(gt_dir))\n",
    "        self.transform = transform\n",
    "\n",
    "    def __len__(self):\n",
    "        return len(self.input_images)\n",
    "\n",
    "    def __getitem__(self, idx):\n",
    "        input_path = os.path.join(self.input_dir, self.input_images[idx])\n",
    "        gt_path = os.path.join(self.gt_dir, self.gt_images[idx])\n",
    "        input_image = cv2.imread(input_path)\n",
    "        gt_image = cv2.imread(gt_path)\n",
    "        # Resize input and GT images to 256x256\n",
    "        input_image = cv2.resize(input_image, (256, 256))  # 리사이즈\n",
    "        gt_image = cv2.resize(gt_image, (256, 256))        # 리사이즈\n",
    "        if self.transform:\n",
    "            input_image = self.transform(input_image)\n",
    "            gt_image = self.transform(gt_image)\n",
    "        return (\n",
    "            torch.tensor(input_image).permute(2, 0, 1).float() / 255.0,\n",
    "            torch.tensor(gt_image).permute(2, 0, 1).float() / 255.0\n",
    "    \n",
    "        )\n",
    "\n",
    "generator = UNet().to(device)\n",
    "discriminator = PatchGANDiscriminator().to(device)\n",
    "\n",
    "generator = generator.to(device)\n",
    "discriminator = discriminator.to(device)\n",
    "\n",
    "adversarial_loss = nn.BCELoss()  \n",
    "pixel_loss = nn.MSELoss()  \n",
    "\n",
    "optimizer_D = optim.AdamW(discriminator.parameters(), lr=0.0001, betas=(0.5, 0.999))\n",
    "optimizer_G = optim.AdamW(generator.parameters(), lr=0.0001, betas=(0.5, 0.999))\n",
    "\n",
    "\n",
    "train_dataset = ImageDataset(\"/home/work/Dacon/dataset/train_input\", \"/home/work/Dacon/dataset/train_gt\")\n",
    "train_loader = DataLoader(train_dataset, batch_size=8, shuffle=True, num_workers=2, pin_memory=True) ####################################################배치사이즈 설정\n",
    "\n",
    "epochs = 100\n",
    "result_dir = \"/home/work/Dacon/dataset/result\"\n",
    "os.makedirs(result_dir, exist_ok=True)\n",
    "checkpoint_path = \"/home/work/Dacon/dataset/checkpoint/checkpoint.pth\"\n",
    "\n",
    "\n",
    "for epoch in range(epochs):\n",
    "    generator.train()\n",
    "    discriminator.train()\n",
    "    running_loss_G = 0.0\n",
    "    running_loss_D = 0.0\n",
    "    n_critic = 2  # 기본 값\n",
    "\n",
    "    with tqdm(total=len(train_loader), desc=f\"Epoch {epoch+1}/{epochs}\", unit=\"batch\") as pbar:\n",
    "        for input_images, gt_images in train_loader:\n",
    "            input_images, gt_images = input_images.to(device), gt_images.to(device)\n",
    "\n",
    "            # 1. Discriminator 업데이트\n",
    "            optimizer_D.zero_grad()\n",
    "            fake_images = generator(input_images).detach()\n",
    "            pred_real = discriminator(gt_images)\n",
    "            pred_fake = discriminator(fake_images)\n",
    "            \n",
    "            loss_real = adversarial_loss(pred_real, torch.ones_like(pred_real))\n",
    "            loss_fake = adversarial_loss(pred_fake, torch.zeros_like(pred_fake))\n",
    "            d_loss = (loss_real + loss_fake) / 2\n",
    "            d_loss.backward()\n",
    "            optimizer_D.step()\n",
    "            running_loss_D += d_loss.item()\n",
    "\n",
    "            # 2. `n_critic` 동적 조정\n",
    "            if d_loss.item() > 1.5:  # D의 손실이 크면\n",
    "                n_critic = 5  # D를 더 자주 업데이트\n",
    "            elif d_loss.item() < 0.7:  # D의 손실이 너무 작으면\n",
    "                n_critic = 1  # G를 더 자주 업데이트\n",
    "            else:\n",
    "                n_critic = 2  # 기본 값\n",
    "\n",
    "            # 3. Generator 업데이트\n",
    "            if pbar.n % n_critic == 0:  # `n_critic` 주기에 맞춰 Generator 업데이트\n",
    "                optimizer_G.zero_grad()\n",
    "                fake_images = generator(input_images)\n",
    "                pred_fake = discriminator(fake_images)\n",
    "\n",
    "                g_loss_adv = adversarial_loss(pred_fake, torch.ones_like(pred_fake))\n",
    "                g_loss_pixel = pixel_loss(fake_images, gt_images)\n",
    "                g_loss = g_loss_adv + 100 * g_loss_pixel\n",
    "                g_loss.backward()\n",
    "                optimizer_G.step()\n",
    "                running_loss_G += g_loss.item()\n",
    "\n",
    "            # Progress bar 업데이트\n",
    "            pbar.set_postfix(generator_loss=running_loss_G / max(1, (pbar.n // n_critic + 1)),\n",
    "                             discriminator_loss=running_loss_D / (pbar.n + 1))\n",
    "            pbar.update(1)\n",
    "\n",
    "    # Epoch 결과 출력\n",
    "    print(f\"Epoch [{epoch+1}/{epochs}] - Generator Loss: {running_loss_G / len(train_loader):.4f}, Discriminator Loss: {running_loss_D / len(train_loader):.4f}\")\n",
    "\n",
    "    test_input_dir = \"test_input\"\n",
    "    output_dir = f\"output_images_epoch_{epoch+1}\"\n",
    "    os.makedirs(output_dir, exist_ok=True)\n",
    "    with torch.no_grad():\n",
    "        for img_name in sorted(os.listdir(test_input_dir)):\n",
    "            img_path = os.path.join(test_input_dir, img_name)\n",
    "            img = cv2.imread(img_path)\n",
    "            input_tensor = torch.tensor(img).permute(2, 0, 1).unsqueeze(0).float().to(device) / 255.0\n",
    "            output = generator(input_tensor).squeeze().permute(1, 2, 0).cpu().numpy() * 255.0\n",
    "            output = output.astype(np.uint8)\n",
    "            cv2.imwrite(os.path.join(output_dir, img_name), output)\n",
    "\n",
    "    zip_filename = os.path.join(result_dir, f\"epoch_{epoch+1}.zip\")\n",
    "    with zipfile.ZipFile(zip_filename, 'w') as zipf:\n",
    "        for img_name in os.listdir(output_dir):\n",
    "            zipf.write(os.path.join(output_dir, img_name), arcname=img_name)\n",
    "    print(f\"Epoch {epoch+1} results saved to {zip_filename}\")\n",
    "\n",
    "    torch.save({\n",
    "        'epoch': epoch,\n",
    "        'generator_state_dict': generator.state_dict(),\n",
    "        'discriminator_state_dict': discriminator.state_dict(),\n",
    "        'optimizer_G_state_dict': optimizer_G.state_dict(),\n",
    "        'optimizer_D_state_dict': optimizer_D.state_dict()\n",
    "    }, checkpoint_path)\n",
    "\n",
    "generator.train()  \n",
    "discriminator.train()  \n"
   ]
  }
 ],
 "metadata": {
  "kernelspec": {
   "display_name": "base",
   "language": "python",
   "name": "python3"
  },
  "language_info": {
   "codemirror_mode": {
    "name": "ipython",
    "version": 3
   },
   "file_extension": ".py",
   "mimetype": "text/x-python",
   "name": "python",
   "nbconvert_exporter": "python",
   "pygments_lexer": "ipython3",
   "version": "3.8.13 | packaged by conda-forge | (default, Mar 25 2022, 06:04:10) \n[GCC 10.3.0]"
  },
  "vscode": {
   "interpreter": {
    "hash": "d4d1e4263499bec80672ea0156c357c1ee493ec2b1c70f0acce89fc37c4a6abe"
   }
  }
 },
 "nbformat": 4,
 "nbformat_minor": 2
}
